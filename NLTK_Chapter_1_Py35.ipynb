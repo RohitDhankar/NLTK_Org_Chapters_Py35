{
 "cells": [
  {
   "cell_type": "code",
   "execution_count": 76,
   "metadata": {
    "collapsed": false
   },
   "outputs": [],
   "source": [
    "#NLTK.org Book Chapter -1 \n",
    "\n",
    "import nltk\n",
    "from nltk import FreqDist\n",
    "#nltk.download()\n",
    "\n",
    "# /home/dhankar/nltk_data\n"
   ]
  },
  {
   "cell_type": "code",
   "execution_count": 39,
   "metadata": {
    "collapsed": false
   },
   "outputs": [],
   "source": [
    "from nltk.book import text1 ,text2 , text4"
   ]
  },
  {
   "cell_type": "code",
   "execution_count": 19,
   "metadata": {
    "collapsed": false
   },
   "outputs": [
    {
     "data": {
      "text/plain": [
       "<Text: Moby Dick by Herman Melville 1851>"
      ]
     },
     "execution_count": 19,
     "metadata": {},
     "output_type": "execute_result"
    }
   ],
   "source": [
    "text1"
   ]
  },
  {
   "cell_type": "code",
   "execution_count": 22,
   "metadata": {
    "collapsed": false
   },
   "outputs": [
    {
     "data": {
      "text/plain": [
       "<Text: Sense and Sensibility by Jane Austen 1811>"
      ]
     },
     "execution_count": 22,
     "metadata": {},
     "output_type": "execute_result"
    }
   ],
   "source": [
    "text2"
   ]
  },
  {
   "cell_type": "code",
   "execution_count": 40,
   "metadata": {
    "collapsed": false
   },
   "outputs": [
    {
     "data": {
      "text/plain": [
       "<Text: Inaugural Address Corpus>"
      ]
     },
     "execution_count": 40,
     "metadata": {},
     "output_type": "execute_result"
    }
   ],
   "source": [
    "text4"
   ]
  },
  {
   "cell_type": "code",
   "execution_count": 32,
   "metadata": {
    "collapsed": false
   },
   "outputs": [
    {
     "name": "stdout",
     "output_type": "stream",
     "text": [
      "Length of Text1: 260819\n",
      "Length of Text2: 141576\n",
      "Length of Text1 , which is - Length of Unique Characters in text1 Sorted : 19317\n"
     ]
    }
   ],
   "source": [
    "print(\"Length of Text1:\",len(text1))\n",
    "print(\"Length of Text2:\",len(text2))\n",
    "print(\"Length of Text1 , which is - Length of Unique Characters in text1 Sorted :\",len(sorted(set(text1))))"
   ]
  },
  {
   "cell_type": "code",
   "execution_count": 45,
   "metadata": {
    "collapsed": false
   },
   "outputs": [
    {
     "data": {
      "image/png": "[encoded data removed]",
      "text/plain": [
       "<matplotlib.figure.Figure at 0x7f0775eb90f0>"
      ]
     },
     "metadata": {},
     "output_type": "display_data"
    },
    {
     "data": {
      "image/png": "[encoded data removed]",
      "text/plain": [
       "<matplotlib.figure.Figure at 0x7f0773bcf1d0>"
      ]
     },
     "metadata": {},
     "output_type": "display_data"
    }
   ],
   "source": [
    "#Lexical Dispersion Plot of Moby Dick \n",
    "\n",
    "text1.dispersion_plot([\"happy\", \"dead\", \"girl\", \"boy\", \"man\"])\n",
    "\n",
    "text2.dispersion_plot([\"freedom\", \"death\", \"life\", \"joy\", \"woman\"])"
   ]
  },
  {
   "cell_type": "code",
   "execution_count": 42,
   "metadata": {
    "collapsed": false
   },
   "outputs": [
    {
     "name": "stdout",
     "output_type": "stream",
     "text": [
      "Displaying 23 of 23 matches:\n",
      "eating a book in a pulpit . It was a negro church ; and the preacher ' s text w\n",
      "e a polite offer of it to the little negro . But the little devil did not seem \n",
      "ry walk on an empty stomach , in the negro heart of Africa , which was the sum \n",
      "ing close up to his face that little negro idol of his ; peering hard into its \n",
      "ng more dignified than a whitewashed negro . But there were some boobies and bu\n",
      "s Daggoo , a gigantic , coal - black negro - savage , with a lion - like tread \n",
      "ss . Curious to tell , this imperial negro , Ahasuerus Daggoo , was the Squire \n",
      " ship . But for all this , the great negro was wonderfully abstemious , not to \n",
      "te planks of the boat , the gigantic negro , stooping a little , presented his \n",
      "ht of , barbaric majesty , the noble negro to every roll of the sea harmoniousl\n",
      "ded heave did he thereby give to the negro ' s lordly chest . So have I seen Pa\n",
      "tartled every man from his nod , the negro yelled out --\" There ! there again !\n",
      " lips over it for a moment , the old negro muttered , \" Best cooked ' teak I eb\n",
      "n dis old brack man dies ,\" said the negro slowly , changing his whole air and \n",
      "hale is warmer than that of a Borneo negro in summer . It does seem to me , tha\n",
      "e would still remain suspended ; the negro having cleared the foul line , ramme\n",
      "was so in the Pequod with the little negro Pippin by nick - name , Pip by abbre\n",
      " recovered himself , the poor little negro was assailed by yells and execration\n",
      "ubb really abandoned the poor little negro to his fate ? No ; he did not mean t\n",
      " him ; but from that hour the little negro went about the deck an idiot ; such \n",
      "of gold , which did I have it now on Negro Hill or in Corlaer ' s Hook , I ' d \n",
      "the ghostly light , the gigantic jet negro , Daggoo , loomed up to thrice his r\n",
      " , have ye seen one Pip ?-- a little negro lad , five feet high , hang - dog lo\n",
      "None\n",
      "__________________________________________________________________________________________\n",
      "No matches\n",
      "None\n",
      "__________________________________________________________________________________________\n",
      "Displaying 13 of 13 matches:\n",
      "ants thereof .\" The elevation of the negro race from slavery to the full rights\n",
      "s there was no middle ground for the negro race between slavery and equal citiz\n",
      " is alleged that in many communities negro citizens are practically denied the \n",
      "overs a field far wider than that of negro suffrage and the present condition o\n",
      "te and full without reference to the negro race , its progress and its present \n",
      "th amendment attempted to secure the negro against any deprivation of the privi\n",
      "e privilege to vote because he was a negro . The thirteenth and fourteenth amen\n",
      "Northerners who sympathized with the Negro in his necessary struggle for better\n",
      " . This is a great protection to the negro . It never will be repealed , and it\n",
      "r of the industrial education of the Negro and the encouragement of the race to\n",
      "e community . The progress which the negro has made in the last fifty years , f\n",
      "e the Executive , in recognizing the Negro race by appointments , must exercise\n",
      "ial and intellectual progress of the negro . The exercise of political franchis\n",
      "None\n"
     ]
    }
   ],
   "source": [
    "# A concordance view shows us every occurrence of a given word, together with some context.\n",
    "print(text1.concordance(\"negro\")) # Moby Dick \n",
    "print(\"_\"*90)\n",
    "print(text2.concordance(\"negro\")) # Jane Austen \n",
    "print(\"_\"*90)\n",
    "print(text4.concordance(\"negro\")) # Inaugural Address Corpus"
   ]
  },
  {
   "cell_type": "code",
   "execution_count": 43,
   "metadata": {
    "collapsed": false
   },
   "outputs": [
    {
     "name": "stdout",
     "output_type": "stream",
     "text": [
      "Displaying 10 of 10 matches:\n",
      "nclude that , like the dyspeptic old woman , he must have \" broken his digester\n",
      "flections by the sight of a freckled woman with yellow hair and a yellow gown ,\n",
      "e ' s rheumatic back . Never did any woman better deserve her name , which was \n",
      "ir limbs . Nor can any son of mortal woman , for the first time , seat himself \n",
      "\" Mr . Har -- yes , Mr . Harry --( a woman ' s pinny hand ,-- the man ' s wife \n",
      "in this same last or shoe , that old woman of the nursery tale , with the swarm\n",
      "eginning at the end . It ' s the old woman ' s tricks to be giving cobbling job\n",
      "men have for tinkers . I know an old woman of sixty - five who ran away with a \n",
      "transparently pure and soft , with a woman ' s look , and the robust and man - \n",
      "Starbuck die , if die he must , in a woman ' s fainting fit . Up helm , I say -\n",
      "None\n",
      "__________________________________________________________________________________________\n",
      "Displaying 25 of 68 matches:\n",
      "ties . Had he married a more amiable woman , he might have been made still more\n",
      "t was so much the greater , and to a woman in Mrs . Dashwood ' s situation , wi\n",
      "ry comfortable fortune for any young woman .\" \" To be sure it is ; and , indeed\n",
      " way , if he were to wish to marry a woman who had not either a great fortune o\n",
      "nd of the danger attending any young woman who attempted to DRAW HIM IN ; that \n",
      " to inhabit or visit it while such a woman was its mistress . She instantly wro\n",
      "income of five hundred a - year by a woman who never saved in her life , they w\n",
      "as she was a very cheerful agreeable woman , he hoped the young ladies would no\n",
      "d - humoured , merry , fat , elderly woman , who talked a great deal , seemed v\n",
      " should by any chance happen to be a woman who is single at seven and twenty , \n",
      "objection to his marrying HER .\" \" A woman of seven and twenty ,\" said Marianne\n",
      "y of a wife . In his marrying such a woman therefore there would be nothing uns\n",
      "ed Elinor , \" to convince you that a woman of seven and twenty could feel for a\n",
      "ndignity of being approved by such a woman as Lady Middleton and Mrs . Jennings\n",
      "ch was exactly calculated to carry a woman . Without considering that it was no\n",
      "been , she had actually made her own woman enquire of Mr . Willoughby ' s groom\n",
      "ould be attempted . \" You are a good woman ,\" he warmly replied . \" Your promis\n",
      ", he was the husband of a very silly woman ,-- but she knew that this kind of b\n",
      " all the philosophy of a well - bred woman , contenting herself with merely giv\n",
      "rmed at in reality .\" \" What a sweet woman Lady Middleton is !\" said Lucy Steel\n",
      " , you cannot tell me what sort of a woman she is ?\" \" No ,\" returned Elinor , \n",
      "sible he is very capable of making a woman sincerely attached to him .\" \" Certa\n",
      "nd I fancy she is an exceeding proud woman .\" \" I certainly did not seek your c\n",
      ". Ferrars is a very headstrong proud woman , and in her first fit of anger upon\n",
      "self - interest alone could induce a woman to keep a man to an engagement , of \n",
      "None\n",
      "__________________________________________________________________________________________\n",
      "Displaying 3 of 3 matches:\n",
      "ideal republic , where every man and woman is called under the flag for assignm\n",
      "e have proclaimed that every man and woman on this earth has rights , and digni\n",
      "riend of each nation and every man , woman , and child who seeks a future of pe\n",
      "None\n"
     ]
    }
   ],
   "source": [
    "print(text1.concordance(\"woman\")) # Moby Dick \n",
    "print(\"_\"*90)\n",
    "print(text2.concordance(\"woman\")) # Jane Austen \n",
    "print(\"_\"*90)\n",
    "print(text4.concordance(\"woman\")) # Inaugural Address Corpus"
   ]
  },
  {
   "cell_type": "code",
   "execution_count": 53,
   "metadata": {
    "collapsed": false
   },
   "outputs": [
    {
     "name": "stdout",
     "output_type": "stream",
     "text": [
      "ship preacher leviathan sun captain pequod black archangel glacier\n",
      "pagan niger savage whalemen priest mother whirling picture crew island\n",
      "blasphemer\n",
      "Words used in Similar Context as our Chosen Word: None\n",
      "__________________________________________________________________________________________\n",
      "nation people union states government constitution country congress\n",
      "world governed executive law future president earth republic south\n",
      "right state war\n",
      "Words used in Similar Context as our Chosen Word: None\n",
      "__________________________________________________________________________________________\n",
      "the_slowly the_s\n",
      "None\n",
      "__________________________________________________________________________________________\n",
      "Displaying 4 of 4 matches:\n",
      " . It was a negro church ; and the preacher ' s text was about the blackness o\n",
      "quiet again , and every eye on the preacher . He paused a little ; then kneeli\n",
      "storm . A brief pause ensued ; the preacher slowly turned over the leaves of t\n",
      "out seemed to add new power to the preacher , who , when describing Jonah ' s \n",
      "None\n",
      "__________________________________________________________________________________________\n",
      "Displaying 23 of 23 matches:\n",
      "eating a book in a pulpit . It was a negro church ; and the preacher ' s text w\n",
      "e a polite offer of it to the little negro . But the little devil did not seem \n",
      "ry walk on an empty stomach , in the negro heart of Africa , which was the sum \n",
      "ing close up to his face that little negro idol of his ; peering hard into its \n",
      "ng more dignified than a whitewashed negro . But there were some boobies and bu\n",
      "s Daggoo , a gigantic , coal - black negro - savage , with a lion - like tread \n",
      "ss . Curious to tell , this imperial negro , Ahasuerus Daggoo , was the Squire \n",
      " ship . But for all this , the great negro was wonderfully abstemious , not to \n",
      "te planks of the boat , the gigantic negro , stooping a little , presented his \n",
      "ht of , barbaric majesty , the noble negro to every roll of the sea harmoniousl\n",
      "ded heave did he thereby give to the negro ' s lordly chest . So have I seen Pa\n",
      "tartled every man from his nod , the negro yelled out --\" There ! there again !\n",
      " lips over it for a moment , the old negro muttered , \" Best cooked ' teak I eb\n",
      "n dis old brack man dies ,\" said the negro slowly , changing his whole air and \n",
      "hale is warmer than that of a Borneo negro in summer . It does seem to me , tha\n",
      "e would still remain suspended ; the negro having cleared the foul line , ramme\n",
      "was so in the Pequod with the little negro Pippin by nick - name , Pip by abbre\n",
      " recovered himself , the poor little negro was assailed by yells and execration\n",
      "ubb really abandoned the poor little negro to his fate ? No ; he did not mean t\n",
      " him ; but from that hour the little negro went about the deck an idiot ; such \n",
      "of gold , which did I have it now on Negro Hill or in Corlaer ' s Hook , I ' d \n",
      "the ghostly light , the gigantic jet negro , Daggoo , loomed up to thrice his r\n",
      " , have ye seen one Pip ?-- a little negro lad , five feet high , hang - dog lo\n",
      "None\n"
     ]
    }
   ],
   "source": [
    "print(\"Words used in Similar Context as our Chosen Word:\",text1.similar(\"negro\"))\n",
    "print(\"_\"*90)\n",
    "print(\"Words used in Similar Context as our Chosen Word:\",text4.similar(\"negro\"))\n",
    "print(\"_\"*90)\n",
    "print(text1.common_contexts([\"negro\", \"preacher\"]))\n",
    "# Infer from above - seek usage of Preacher \n",
    "print(\"_\"*90)\n",
    "print(text1.concordance(\"preacher\"))\n",
    "#\n",
    "# preacher slowly turned over the leaves\n",
    "#\n",
    "print(\"_\"*90)\n",
    "print(text1.concordance(\"negro\"))\n",
    "#\n",
    "# negro ' s lordly chest\n",
    "# said the negro slowly , changing his whole air"
   ]
  },
  {
   "cell_type": "code",
   "execution_count": 56,
   "metadata": {
    "collapsed": false
   },
   "outputs": [],
   "source": [
    "def lexical_diversity(text):\n",
    "    return len(set(text)) / len(text)\n",
    "\n",
    "def percentage(count, total):\n",
    "    return 100 * count / total"
   ]
  },
  {
   "cell_type": "code",
   "execution_count": 57,
   "metadata": {
    "collapsed": false
   },
   "outputs": [
    {
     "name": "stdout",
     "output_type": "stream",
     "text": [
      "0.07406285585022564\n",
      "0.04826383002768831\n",
      "80.0\n",
      "Percent of MAN in text1: 0.19477108646225927\n",
      "Percent of MAN in text2: 0.08546646324235746\n"
     ]
    }
   ],
   "source": [
    "print(lexical_diversity(text1))\n",
    "#\n",
    "print(lexical_diversity(text2))\n",
    "#\n",
    "print(percentage(4, 5)) # testing the Function \n",
    "#\n",
    "print(\"Percent of MAN in text1:\",percentage(text1.count('man'), len(text1)))\n",
    "#\n",
    "print(\"Percent of MAN in text2:\",percentage(text2.count('man'), len(text2)))"
   ]
  },
  {
   "cell_type": "code",
   "execution_count": 65,
   "metadata": {
    "collapsed": false
   },
   "outputs": [
    {
     "name": "stdout",
     "output_type": "stream",
     "text": [
      "<class 'nltk.text.Text'>\n",
      "173\n",
      "awaken\n",
      "__________________________________________________________________________________________\n",
      "Slicing text from - 173 to 185 : ['awaken', 'in', 'the', 'wisest', 'and', 'most', 'experienced', 'of', 'her', 'citizens', 'a', 'distrustful']\n",
      "__________________________________________________________________________________________\n",
      "Slice from begining of text - to Index Value 6 : ['Fellow', '-', 'Citizens', 'of', 'the', 'Senate']\n"
     ]
    }
   ],
   "source": [
    "# Text is LIST \n",
    "print(type(text4))\n",
    "print(text4.index(\"awaken\"))\n",
    "print(text4[173])\n",
    "# Slicing Text \n",
    "print(\"_\"*90)\n",
    "print(\"Slicing text from - 173 to 185 :\",text4[173:185])\n",
    "print(\"_\"*90)\n",
    "print(\"Slice from begining of text - to Index Value 6 :\",text4[:6])"
   ]
  },
  {
   "cell_type": "code",
   "execution_count": 74,
   "metadata": {
    "collapsed": false
   },
   "outputs": [
    {
     "name": "stdout",
     "output_type": "stream",
     "text": [
      "MeteorMeteor\n",
      "Meteor___*__\n",
      "MeteorMeteor\n",
      "__________________________________________________________________________________________\n",
      "['MeteorMeteor']\n"
     ]
    }
   ],
   "source": [
    "# Strings with NLTK \n",
    "#\n",
    "name = \"Meteor\"\n",
    "print(name*2)\n",
    "# same as - print(\"_\"*90)\n",
    "print(name+\"_\"+\"__*__\")\n",
    "#\n",
    "joined=(''.join([name+name]))\n",
    "print(joined)\n",
    "print(\"_\"*90)\n",
    "''.join([name+name]) # Nothing printed ? \n",
    "#\n",
    "print(joined.split())\n"
   ]
  },
  {
   "cell_type": "code",
   "execution_count": 79,
   "metadata": {
    "collapsed": false
   },
   "outputs": [
    {
     "name": "stdout",
     "output_type": "stream",
     "text": [
      "<FreqDist with 19317 samples and 260819 outcomes>\n",
      "[(',', 18713), ('the', 13721), ('.', 6862), ('of', 6536), ('and', 6024), ('a', 4569), ('to', 4542), (';', 4072), ('in', 3916), ('that', 2982)]\n"
     ]
    },
    {
     "data": {
      "image/png": "[encoded data removed]",
      "text/plain": [
       "<matplotlib.figure.Figure at 0x7f07685d3588>"
      ]
     },
     "metadata": {},
     "output_type": "display_data"
    }
   ],
   "source": [
    "from nltk import FreqDist\n",
    "\n",
    "fdist1 = FreqDist(text1)\n",
    "print(fdist1)\n",
    "print(fdist1.most_common(10))\n",
    "# \n",
    "fdist1.plot(10, cumulative=True)"
   ]
  },
  {
   "cell_type": "code",
   "execution_count": null,
   "metadata": {
    "collapsed": true
   },
   "outputs": [],
   "source": []
  },
  {
   "cell_type": "code",
   "execution_count": null,
   "metadata": {
    "collapsed": true
   },
   "outputs": [],
   "source": []
  },
  {
   "cell_type": "code",
   "execution_count": null,
   "metadata": {
    "collapsed": true
   },
   "outputs": [],
   "source": []
  },
  {
   "cell_type": "code",
   "execution_count": null,
   "metadata": {
    "collapsed": true
   },
   "outputs": [],
   "source": []
  },
  {
   "cell_type": "code",
   "execution_count": null,
   "metadata": {
    "collapsed": true
   },
   "outputs": [],
   "source": []
  },
  {
   "cell_type": "code",
   "execution_count": null,
   "metadata": {
    "collapsed": true
   },
   "outputs": [],
   "source": []
  }
 ],
 "metadata": {
  "anaconda-cloud": {},
  "kernelspec": {
   "display_name": "Python [conda env:py35]",
   "language": "python",
   "name": "conda-env-py35-py"
  },
  "language_info": {
   "codemirror_mode": {
    "name": "ipython",
    "version": 3
   },
   "file_extension": ".py",
   "mimetype": "text/x-python",
   "name": "python",
   "nbconvert_exporter": "python",
   "pygments_lexer": "ipython3",
   "version": "3.5.2"
  }
 },
 "nbformat": 4,
 "nbformat_minor": 1
}
